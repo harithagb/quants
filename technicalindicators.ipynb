{
 "cells": [
  {
   "cell_type": "markdown",
   "id": "e191be01",
   "metadata": {},
   "source": [
    "Ideally I'm trying to make functions in this notebook, test it out, and later use it as functions for when I build a pairs trading model."
   ]
  },
  {
   "cell_type": "code",
   "execution_count": 1,
   "id": "cffcbbe9",
   "metadata": {},
   "outputs": [],
   "source": [
    "import numpy as np\n",
    "import pandas as pd"
   ]
  },
  {
   "cell_type": "code",
   "execution_count": 2,
   "id": "55fa705e",
   "metadata": {},
   "outputs": [],
   "source": [
    "import yfinance as yf"
   ]
  },
  {
   "cell_type": "markdown",
   "id": "4d0532bd",
   "metadata": {},
   "source": [
    "I had a lot of issues trying to install ta_lib, so I'm using something called pandas_ta instead."
   ]
  },
  {
   "cell_type": "markdown",
   "id": "e33a00d8",
   "metadata": {},
   "source": [
    "My goal is to have a ticker txt file and for every ticker, scrape yfinance close prices and create a dataframe for each ticker. "
   ]
  },
  {
   "cell_type": "code",
   "execution_count": 3,
   "id": "3870b7ad",
   "metadata": {},
   "outputs": [],
   "source": [
    "ticker_list = []\n",
    "filename = \"tickers.txt\"\n",
    "\n",
    "try:\n",
    "    with open(filename,'r') as file:\n",
    "        for line in file:\n",
    "            ticker = line.strip()\n",
    "            ticker_list.append(ticker)\n",
    "except:\n",
    "    print(f\"File '{filename}' not found.'\")"
   ]
  },
  {
   "cell_type": "code",
   "execution_count": 4,
   "id": "527fdc87",
   "metadata": {},
   "outputs": [
    {
     "data": {
      "text/plain": [
       "['AAPL', 'NFLX', 'SBUX']"
      ]
     },
     "execution_count": 4,
     "metadata": {},
     "output_type": "execute_result"
    }
   ],
   "source": [
    "ticker_list"
   ]
  },
  {
   "cell_type": "code",
   "execution_count": 5,
   "id": "989c52d4",
   "metadata": {},
   "outputs": [],
   "source": [
    "start = \"2021-12-12\"\n",
    "end = \"2023-12-12\""
   ]
  },
  {
   "cell_type": "code",
   "execution_count": 6,
   "id": "89265e80",
   "metadata": {},
   "outputs": [
    {
     "name": "stdout",
     "output_type": "stream",
     "text": [
      "[*********************100%%**********************]  3 of 3 completed\n"
     ]
    }
   ],
   "source": [
    "data = yf.download(tickers = ticker_list, start = start, end = end, actions=False)['Adj Close']"
   ]
  },
  {
   "cell_type": "code",
   "execution_count": 7,
   "id": "6ea43c78",
   "metadata": {},
   "outputs": [
    {
     "data": {
      "text/html": [
       "<div>\n",
       "<style scoped>\n",
       "    .dataframe tbody tr th:only-of-type {\n",
       "        vertical-align: middle;\n",
       "    }\n",
       "\n",
       "    .dataframe tbody tr th {\n",
       "        vertical-align: top;\n",
       "    }\n",
       "\n",
       "    .dataframe thead th {\n",
       "        text-align: right;\n",
       "    }\n",
       "</style>\n",
       "<table border=\"1\" class=\"dataframe\">\n",
       "  <thead>\n",
       "    <tr style=\"text-align: right;\">\n",
       "      <th></th>\n",
       "      <th>AAPL</th>\n",
       "      <th>NFLX</th>\n",
       "      <th>SBUX</th>\n",
       "    </tr>\n",
       "    <tr>\n",
       "      <th>Date</th>\n",
       "      <th></th>\n",
       "      <th></th>\n",
       "      <th></th>\n",
       "    </tr>\n",
       "  </thead>\n",
       "  <tbody>\n",
       "    <tr>\n",
       "      <th>2021-12-13</th>\n",
       "      <td>173.754730</td>\n",
       "      <td>604.559998</td>\n",
       "      <td>110.557739</td>\n",
       "    </tr>\n",
       "    <tr>\n",
       "      <th>2021-12-14</th>\n",
       "      <td>172.360657</td>\n",
       "      <td>597.989990</td>\n",
       "      <td>109.744530</td>\n",
       "    </tr>\n",
       "    <tr>\n",
       "      <th>2021-12-15</th>\n",
       "      <td>177.274506</td>\n",
       "      <td>605.039978</td>\n",
       "      <td>109.715828</td>\n",
       "    </tr>\n",
       "    <tr>\n",
       "      <th>2021-12-16</th>\n",
       "      <td>170.314041</td>\n",
       "      <td>591.059998</td>\n",
       "      <td>108.673019</td>\n",
       "    </tr>\n",
       "    <tr>\n",
       "      <th>2021-12-17</th>\n",
       "      <td>169.206711</td>\n",
       "      <td>586.729980</td>\n",
       "      <td>103.927719</td>\n",
       "    </tr>\n",
       "    <tr>\n",
       "      <th>...</th>\n",
       "      <td>...</td>\n",
       "      <td>...</td>\n",
       "      <td>...</td>\n",
       "    </tr>\n",
       "    <tr>\n",
       "      <th>2023-11-13</th>\n",
       "      <td>184.800003</td>\n",
       "      <td>444.619995</td>\n",
       "      <td>103.510002</td>\n",
       "    </tr>\n",
       "    <tr>\n",
       "      <th>2023-11-14</th>\n",
       "      <td>187.440002</td>\n",
       "      <td>448.649994</td>\n",
       "      <td>105.599998</td>\n",
       "    </tr>\n",
       "    <tr>\n",
       "      <th>2023-11-15</th>\n",
       "      <td>188.009995</td>\n",
       "      <td>461.940002</td>\n",
       "      <td>106.029999</td>\n",
       "    </tr>\n",
       "    <tr>\n",
       "      <th>2023-11-16</th>\n",
       "      <td>189.710007</td>\n",
       "      <td>466.950012</td>\n",
       "      <td>107.209999</td>\n",
       "    </tr>\n",
       "    <tr>\n",
       "      <th>2023-11-17</th>\n",
       "      <td>189.690002</td>\n",
       "      <td>465.910004</td>\n",
       "      <td>105.570000</td>\n",
       "    </tr>\n",
       "  </tbody>\n",
       "</table>\n",
       "<p>487 rows × 3 columns</p>\n",
       "</div>"
      ],
      "text/plain": [
       "                  AAPL        NFLX        SBUX\n",
       "Date                                          \n",
       "2021-12-13  173.754730  604.559998  110.557739\n",
       "2021-12-14  172.360657  597.989990  109.744530\n",
       "2021-12-15  177.274506  605.039978  109.715828\n",
       "2021-12-16  170.314041  591.059998  108.673019\n",
       "2021-12-17  169.206711  586.729980  103.927719\n",
       "...                ...         ...         ...\n",
       "2023-11-13  184.800003  444.619995  103.510002\n",
       "2023-11-14  187.440002  448.649994  105.599998\n",
       "2023-11-15  188.009995  461.940002  106.029999\n",
       "2023-11-16  189.710007  466.950012  107.209999\n",
       "2023-11-17  189.690002  465.910004  105.570000\n",
       "\n",
       "[487 rows x 3 columns]"
      ]
     },
     "execution_count": 7,
     "metadata": {},
     "output_type": "execute_result"
    }
   ],
   "source": [
    "data"
   ]
  },
  {
   "cell_type": "code",
   "execution_count": 8,
   "id": "69a5fab4",
   "metadata": {
    "scrolled": true
   },
   "outputs": [],
   "source": [
    "import pandas_ta as ta"
   ]
  },
  {
   "cell_type": "code",
   "execution_count": 9,
   "id": "d4bf035d",
   "metadata": {},
   "outputs": [],
   "source": [
    "# moving averages:\n",
    "'''\n",
    "sma(): Simple Moving Average\n",
    "ema(): Exponential Moving Average\n",
    "wma(): Weighted Moving Average\n",
    "hma(): Hull Moving Average\n",
    "kama(): Kaufman Adaptive Moving Average\n",
    "'''\n",
    "\n",
    "\n",
    "'''\n",
    "Function description:\n",
    "Calculate specified moving averages for a given series of prices.\n",
    "\n",
    "    Args:\n",
    "        series (pd.Series): Series of prices.\n",
    "        averages (list): List of moving average types to calculate.\n",
    "\n",
    "    Returns:\n",
    "        dict: A dictionary with moving average type as keys and the corresponding moving averages as values.\n",
    "    \"\"\"\n",
    "'''\n",
    "def movav(series, averages):\n",
    "    moving_averages = {}\n",
    "\n",
    "    for average_type in averages:\n",
    "        if average_type == 'sma':\n",
    "            moving_averages['SMA'] = ta.sma(series)\n",
    "        elif average_type == 'ema':\n",
    "            moving_averages['EMA'] = ta.ema(series)\n",
    "        elif average_type == 'wma':\n",
    "            moving_averages['WMA'] = ta.wma(series)\n",
    "        elif average_type == 'hma':\n",
    "            moving_averages['HMA'] = ta.hma(series)\n",
    "        elif average_type == 'kama':\n",
    "            moving_averages['KAMA'] = ta.kama(series)\n",
    "        else:\n",
    "            raise ValueError(f\"Invalid moving average type: {average_type}\")\n",
    "\n",
    "    return moving_averages"
   ]
  },
  {
   "cell_type": "code",
   "execution_count": 10,
   "id": "8d5558ea",
   "metadata": {},
   "outputs": [],
   "source": [
    "apl_mv = movav(data['AAPL'], averages=['sma','ema','wma'])"
   ]
  },
  {
   "cell_type": "code",
   "execution_count": 11,
   "id": "c1a4e4e6",
   "metadata": {},
   "outputs": [
    {
     "data": {
      "text/plain": [
       "{'SMA': Date\n",
       " 2021-12-13           NaN\n",
       " 2021-12-14           NaN\n",
       " 2021-12-15           NaN\n",
       " 2021-12-16           NaN\n",
       " 2021-12-17           NaN\n",
       "                  ...    \n",
       " 2023-11-13    179.463470\n",
       " 2023-11-14    181.152939\n",
       " 2023-11-15    182.579828\n",
       " 2023-11-16    183.817191\n",
       " 2023-11-17    185.144434\n",
       " Name: SMA_10, Length: 487, dtype: float64,\n",
       " 'EMA': Date\n",
       " 2021-12-13           NaN\n",
       " 2021-12-14           NaN\n",
       " 2021-12-15           NaN\n",
       " 2021-12-16           NaN\n",
       " 2021-12-17           NaN\n",
       "                  ...    \n",
       " 2023-11-13    180.466205\n",
       " 2023-11-14    181.734168\n",
       " 2023-11-15    182.875227\n",
       " 2023-11-16    184.117914\n",
       " 2023-11-17    185.131021\n",
       " Name: EMA_10, Length: 487, dtype: float64,\n",
       " 'WMA': Date\n",
       " 2021-12-13           NaN\n",
       " 2021-12-14           NaN\n",
       " 2021-12-15           NaN\n",
       " 2021-12-16           NaN\n",
       " 2021-12-17           NaN\n",
       "                  ...    \n",
       " 2023-11-13    181.848511\n",
       " 2023-11-14    183.298790\n",
       " 2023-11-15    184.545527\n",
       " 2023-11-16    185.841923\n",
       " 2023-11-17    186.909707\n",
       " Name: WMA_10, Length: 487, dtype: float64}"
      ]
     },
     "execution_count": 11,
     "metadata": {},
     "output_type": "execute_result"
    }
   ],
   "source": [
    "apl_mv"
   ]
  },
  {
   "cell_type": "code",
   "execution_count": null,
   "id": "4d591053",
   "metadata": {},
   "outputs": [],
   "source": [
    "import seaborn as sns\n",
    "import matplotlib.pyplot as plt"
   ]
  },
  {
   "cell_type": "code",
   "execution_count": null,
   "id": "be333ca1",
   "metadata": {},
   "outputs": [],
   "source": [
    "apl_df = pd.DataFrame(apl_mv)"
   ]
  },
  {
   "cell_type": "code",
   "execution_count": null,
   "id": "0fa52416",
   "metadata": {},
   "outputs": [],
   "source": [
    "# Set the figure size\n",
    "plt.figure(figsize=(12, 6))\n",
    "\n",
    "# Plot the data with Seaborn\n",
    "sns.lineplot(data=apl_df, dashes=False)\n",
    "\n",
    "# Set labels and title\n",
    "plt.xlabel('Date')\n",
    "plt.ylabel('Value')\n",
    "plt.title('Moving Averages')\n",
    "\n",
    "# Display the legend\n",
    "plt.legend(title='Moving Average Type')\n",
    "\n",
    "# Rotate x-axis labels for better readability (optional)\n",
    "plt.xticks(rotation=45)\n",
    "\n",
    "# Show the plot\n",
    "plt.show()"
   ]
  },
  {
   "cell_type": "code",
   "execution_count": null,
   "id": "64f0fbb3",
   "metadata": {},
   "outputs": [],
   "source": [
    "def plot_ma(dictmv):\n",
    "    \n",
    "    dictmv = pd.DataFrame(dictmv)\n",
    "    # Set the figure size\n",
    "    plt.figure(figsize=(12, 6))\n",
    "\n",
    "    # Plot the data with Seaborn\n",
    "    sns.lineplot(data=dictmv, dashes=False)\n",
    "\n",
    "    # Set labels and title\n",
    "    plt.xlabel('Date')\n",
    "    plt.ylabel('Value')\n",
    "    plt.title('Moving Averages')\n",
    "\n",
    "    # Display the legend\n",
    "    plt.legend(title='Moving Average Type')\n",
    "\n",
    "    # Rotate x-axis labels for better readability (optional)\n",
    "    plt.xticks(rotation=45)\n",
    "\n",
    "    # Show the plot\n",
    "    plt.show()"
   ]
  },
  {
   "cell_type": "code",
   "execution_count": null,
   "id": "0980d88f",
   "metadata": {
    "scrolled": true
   },
   "outputs": [],
   "source": [
    "plot_ma(apl_mv)"
   ]
  },
  {
   "cell_type": "code",
   "execution_count": null,
   "id": "b7f13511",
   "metadata": {},
   "outputs": [],
   "source": []
  }
 ],
 "metadata": {
  "kernelspec": {
   "display_name": "Python 3 (ipykernel)",
   "language": "python",
   "name": "python3"
  },
  "language_info": {
   "codemirror_mode": {
    "name": "ipython",
    "version": 3
   },
   "file_extension": ".py",
   "mimetype": "text/x-python",
   "name": "python",
   "nbconvert_exporter": "python",
   "pygments_lexer": "ipython3",
   "version": "3.11.4"
  },
  "toc": {
   "base_numbering": 1,
   "nav_menu": {},
   "number_sections": true,
   "sideBar": true,
   "skip_h1_title": false,
   "title_cell": "Table of Contents",
   "title_sidebar": "Contents",
   "toc_cell": false,
   "toc_position": {},
   "toc_section_display": true,
   "toc_window_display": false
  }
 },
 "nbformat": 4,
 "nbformat_minor": 5
}
